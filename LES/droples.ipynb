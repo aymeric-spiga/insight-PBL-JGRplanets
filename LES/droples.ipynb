{
 "cells": [
  {
   "cell_type": "code",
   "execution_count": 1,
   "metadata": {},
   "outputs": [
    {
     "name": "stdout",
     "output_type": "stream",
     "text": [
      "2020-10-02 17:24:14.530774\n"
     ]
    }
   ],
   "source": [
    "from ppclass import pp\n",
    "import apss_lib\n",
    "import numpy as np\n",
    "#%matplotlib inline"
   ]
  },
  {
   "cell_type": "code",
   "execution_count": 2,
   "metadata": {},
   "outputs": [],
   "source": [
    "dadroplim = 0.2\n",
    "dadroplim = 0.3\n",
    "dadroplim = 0.35"
   ]
  },
  {
   "cell_type": "code",
   "execution_count": 3,
   "metadata": {},
   "outputs": [],
   "source": [
    "case = \"25M_LS300_W10\"\n",
    "case = \"25M_LS300_W20\"\n",
    "case = \"25M_LS120_W10\"\n",
    "case = \"25M_LS120_W20\"\n",
    "case = \"25M_LS30_W10\"\n",
    "case = \"25M_LS30_W20\"\n",
    "case = \"25M_LS0_W10\"\n",
    "case = \"25M_LS0_W20\""
   ]
  },
  {
   "cell_type": "code",
   "execution_count": 4,
   "metadata": {},
   "outputs": [
    {
     "name": "stdout",
     "output_type": "stream",
     "text": [
      "mkdir: impossible de créer le répertoire «25M_LS0_W20»: Le fichier existe\n",
      "mkdir: impossible de créer le répertoire «25M_LS0_W20/pdf_sol_to_sol»: Le fichier existe\n",
      "mkdir: impossible de créer le répertoire «25M_LS0_W20/txt_sol_to_sol»: Le fichier existe\n",
      "mkdir: impossible de créer le répertoire «25M_LS0_W20/txt_per_sol»: Le fichier existe\n",
      "mkdir: impossible de créer le répertoire «25M_LS0_W20/pdf_stats»: Le fichier existe\n"
     ]
    }
   ],
   "source": [
    "!mkdir {case}\n",
    "!mkdir {case}/pdf_sol_to_sol\n",
    "!mkdir {case}/txt_sol_to_sol\n",
    "!mkdir {case}/txt_per_sol\n",
    "!mkdir {case}/pdf_stats"
   ]
  },
  {
   "cell_type": "code",
   "execution_count": 5,
   "metadata": {},
   "outputs": [
    {
     "name": "stdout",
     "output_type": "stream",
     "text": [
      "[ 0  1  2  3  4  5  6  7  8  9 10 11 12 13 14 15 16 17 18 19 20 21 22 23]\n",
      "[ 0  1  2  3  4  5  6  7  8  9 10 11 12 13 14 15 16 17 18 19 20 21 22 23]\n"
     ]
    }
   ],
   "source": [
    "nn = 24 #8 #5\n",
    "dim = 24 #48\n",
    "#nn = 10\n",
    "xxtab = np.random.rand(nn)*dim\n",
    "yytab = np.random.rand(nn)*dim\n",
    "\n",
    "xxtab = np.arange(24) ; yytab = np.arange(24)\n",
    "\n",
    "print xxtab\n",
    "print yytab\n",
    "\n",
    "#dim=5 #20\n",
    "#xxtab = np.arange(dim)\n",
    "#yytab = np.arange(dim)\n",
    "\n"
   ]
  },
  {
   "cell_type": "code",
   "execution_count": 6,
   "metadata": {
    "scrolled": false
   },
   "outputs": [
    {
     "name": "stdout",
     "output_type": "stream",
     "text": [
      "0\n",
      "1\n",
      "2\n",
      "3\n",
      "4\n",
      "5\n",
      "6\n",
      "7\n",
      "8\n",
      "9\n",
      "10\n",
      "11\n",
      "12\n",
      "13\n",
      "14\n",
      "15\n",
      "16\n",
      "17\n",
      "18\n",
      "19\n",
      "20\n",
      "21\n",
      "22\n",
      "23\n"
     ]
    }
   ],
   "source": [
    "\n",
    "\n",
    "\n",
    "sol = 9000\n",
    "soltab = []\n",
    "\n",
    "\n",
    "\n",
    "for xx in xxtab:\n",
    "    xx = int(xx)\n",
    "    print xx    \n",
    "    for yy in yytab:\n",
    "        yy = int(yy)\n",
    "\n",
    "#hh = 144\n",
    "##hh = 24*24 #576\n",
    "#for hhh in range(hh):\n",
    "\n",
    "        xx = int(24.*np.random.rand(1))\n",
    "        yy = int(24.*np.random.rand(1))\n",
    "        #print xx,yy\n",
    "\n",
    "        zefile = \"PSFC_LMD_LES_\"+case\n",
    "        ff = pp(file=zefile+\"_every20.nc\",var=\"PSFC\",x=xx,y=yy,z=0).getf()\n",
    "\n",
    "        ltstpp = 7. + np.arange(len(ff))/3700.\n",
    "        utcpp = np.empty_like(ltstpp,dtype=\"str\")\n",
    "        for iii in range(len(utcpp)):\n",
    "            utcpp[iii] = str(iii)\n",
    "        \n",
    "        #ltstpp = [str(ltst) for ltst in ltstpp]\n",
    "        #utcpp = ltstpp\n",
    "        \n",
    "        \n",
    "        dpp, spp = apss_lib.detrendsmooth(ff,1000)\n",
    "        #dpp = ff - np.mean(ff) ; spp = np.mean(ff)\n",
    "        \n",
    "        indices, ddcount, drop, search = apss_lib.studypressure(sol,dpp,\"\",utcpp,ltstpp,\\\n",
    "                                                                droplim = -dadroplim,\\\n",
    "                                                                winsearch = 30,\\\n",
    "                                                                zefold=case,\\\n",
    "                                                                ltnum=True,isplot=False)\n",
    "        \n",
    "        #import ppplot ; pl = ppplot.plot1d() ; pl.f = dpp ; pl.x = ltstpp ; pl.fmt = '%.1f' ; pl.makeshow()\n",
    "        soltab = np.append(soltab,sol)\n",
    "        sol = sol+1        \n",
    "\n",
    "        #print np.min(drop)\n",
    "\n",
    "        \n",
    "#import ppplot\n",
    "#ppplot.plot1d(dpp)\n",
    "#ppplot.show()\n"
   ]
  },
  {
   "cell_type": "code",
   "execution_count": 7,
   "metadata": {},
   "outputs": [],
   "source": [
    "#nn = 25\n",
    "#nn = 5\n",
    "#nn = 10\n",
    "#nn = 20\n",
    "#nn = 48"
   ]
  },
  {
   "cell_type": "code",
   "execution_count": 8,
   "metadata": {
    "scrolled": false
   },
   "outputs": [],
   "source": [
    "#sol = 0\n",
    "#\n",
    "#\n",
    "#\n",
    "#for xx in range(nn):\n",
    "#    print xx\n",
    "#    for yy in range(nn):\n",
    "#        #print xx,yy\n",
    "#              \n",
    "#        ff = pp(file=\"PSFC_LMD_LES25m_every10.nc\",var=\"PSFC\",x=xx,y=yy,z=0).getf()\n",
    "#\n",
    "#        ltstpp = 8. + np.arange(len(ff))/3700.\n",
    "#        utcpp = np.empty_like(ltstpp,dtype=\"str\")\n",
    "#        for iii in range(len(utcpp)):\n",
    "#            utcpp[iii] = str(iii)\n",
    "#        dpp = ff - np.mean(ff)        \n",
    "#\n",
    "#        indices, ddcount, drop, search = apss_lib.studypressure(sol,dpp,\"\",utcpp,ltstpp,ltnum=True,isplot=False)\n",
    "#        sol = sol+1        \n",
    "#\n",
    "#lastsol = sol\n",
    "#        \n",
    "##import ppplot\n",
    "##ppplot.plot1d(dpp)\n",
    "##ppplot.show()"
   ]
  },
  {
   "cell_type": "code",
   "execution_count": 9,
   "metadata": {
    "scrolled": false
   },
   "outputs": [
    {
     "name": "stdout",
     "output_type": "stream",
     "text": [
      "7614\n"
     ]
    }
   ],
   "source": [
    "### create event structured arrays\n",
    "dtype = np.dtype([('drop',float), ('ltst',float), ('sol',int), ('utc','S23'), ('ratio',float)])\n",
    "events = np.array([],dtype=dtype)\n",
    "\n",
    "#np.arange(sol)\n",
    "\n",
    "#print soltab\n",
    "\n",
    "for iii in np.arange(len(soltab)):\n",
    "    \n",
    "    #print soltab[iii]\n",
    "      \n",
    "    #fifi, output = apss_lib.namefile(iii,\"\")\n",
    "    fifi, output = apss_lib.namefile(soltab[iii],\"\")\n",
    "    \n",
    "    #print output\n",
    "    \n",
    "    ddfile = \"./\"+case+\"/txt_per_sol/\"+output+\"DD_3.txt\"\n",
    "    \n",
    "    ltst = np.loadtxt(ddfile,unpack=True,dtype=str,usecols=(2))   \n",
    "    drop = np.loadtxt(ddfile,unpack=True,usecols=(1))\n",
    "    utc = np.loadtxt(ddfile,unpack=True,usecols=(3),dtype='S23')\n",
    "       \n",
    "    nnn = drop.size\n",
    "\n",
    "    if nnn > 1:\n",
    "        for n in np.arange(nnn):\n",
    "            element = np.array((drop[n],ltst[n],iii,utc[n],1),dtype=dtype)\n",
    "            events = np.append(events,element)\n",
    "    else:\n",
    "        pass\n",
    "        #print drop,ltst,soltab[iii],utc\n",
    "        #events = np.append(events,np.array((drop,ltst,soltab[iii],utc,1),dtype=dtype))\n",
    "\n",
    "print events.size\n",
    "\n",
    "\n"
   ]
  },
  {
   "cell_type": "code",
   "execution_count": 10,
   "metadata": {},
   "outputs": [],
   "source": [
    "### ordered file\n",
    "oevents = np.sort(events, order='drop')\n",
    "dafile = open(\"./\"+case+\"/alldrop_ordered.txt\",\"w\")\n",
    "dafile.write('%6s ; %6s ; %3s ; %23s ; %5s\\n' % (\"_DROP_\",\"_LTST_\",\"SOL\",\"YYYY-MM-DDTHH:MM:SS.sss\",\"RATIO\"))\n",
    "for ooo in oevents:\n",
    "    dafile.write('%6.3f ; %6.3f ; %03d ; %s ; %5.3f\\n' % (ooo['drop'],ooo['ltst'],ooo['sol'],ooo['utc'],ooo['ratio']))\n",
    "dafile.close()"
   ]
  },
  {
   "cell_type": "code",
   "execution_count": 11,
   "metadata": {},
   "outputs": [
    {
     "name": "stdout",
     "output_type": "stream",
     "text": [
      "MIN,MAX LTST 8.991891891891893 16.546216216216216\n",
      "MIN,MAX DROP -4.541 -0.345\n",
      "MEAN =  12.80543383963674\n",
      "STD =  1.3014538345516793\n"
     ]
    }
   ],
   "source": [
    "print \"MIN,MAX LTST\",np.min(events['ltst']),np.max(events['ltst'])\n",
    "print \"MIN,MAX DROP\",np.min(events['drop']),np.max(events['drop'])  \n",
    "\n",
    "################# LT HISTOGRAM\n",
    "limdrop = 0.5\n",
    "limdrop = 0.3\n",
    "limdrop = dadroplim\n",
    "#limdrop = 2.0\n",
    "nbins = 18\n",
    "import matplotlib.pyplot as mpl\n",
    "import ppplot\n",
    "ppplot.changefont(18)\n",
    "mpl.figure(figsize=(12,6))\n",
    "##############################################\n",
    "## drops stronger than limdrop\n",
    "## + complete sols\n",
    "idx = (events['drop'] < -limdrop)*(events['ratio'] > 0.99)\n",
    "w = np.where(idx)\n",
    "what_hist = events['ltst'][w]\n",
    "##############################################\n",
    "ppplot.figuref(x=16,y=6)\n",
    "dabins = np.linspace(8,17,nbins+1)\n",
    "#dabins = 'auto'\n",
    "n, bins, patches = mpl.hist(what_hist,bins=dabins,density=True)\n",
    "foo = mpl.ylabel(\"Probability density\")\n",
    "foo = mpl.xlabel(\"Mars LTST (hours)\")\n",
    "foo = mpl.xticks(bins)\n",
    "foo = mpl.title(\"%i pressure drops stronger than %.2f Pa\" % (what_hist.size, limdrop))\n",
    "foo = mpl.xlim(xmin=8,xmax=17)\n",
    "\n",
    "print \"MEAN = \",np.mean(what_hist)\n",
    "print \"STD = \",np.std(what_hist)\n",
    "#from scipy.stats import norm\n",
    "#f_x = norm.pdf(bins, np.mean(what_hist), np.std(what_hist))\n",
    "#x = bins\n",
    "#mpl.plot(x,f_x)\n",
    "####\n",
    "##from scipy.stats import poisson\n",
    "##X = np.arange(6,19)\n",
    "##mpl.plot( X, poisson.pmf(X,np.mean(what_hist)), 'r-' )\n",
    "####\n",
    "ppplot.save(mode=\"pdf\",filename=\"ltst_hist\",folder='./'+case+'/pdf_stats/')"
   ]
  },
  {
   "cell_type": "code",
   "execution_count": 12,
   "metadata": {},
   "outputs": [
    {
     "name": "stderr",
     "output_type": "stream",
     "text": [
      "/home/aspiga/soft/conda/miniconda2/envs/py2/lib/python2.7/site-packages/matplotlib/axes/_axes.py:6462: UserWarning: The 'normed' kwarg is deprecated, and has been replaced by the 'density' kwarg.\n",
      "  warnings.warn(\"The 'normed' kwarg is deprecated, and has been \"\n"
     ]
    }
   ],
   "source": [
    "############################\n",
    "limdrop = 0.5\n",
    "limdrop = 1.0\n",
    "#limdrop = 0.3\n",
    "limdrop = dadroplim\n",
    "#limdrop = 0.4\n",
    "#limdrop = 1\n",
    "############################\n",
    "\n",
    "dafile = open(\"allDD_1.txt\",\"w\")\n",
    "for drop in events['drop']:\n",
    "  dafile.write('%5.3f ; %5.3f ; %5.3f ; %5.3f ; %5.3f ; %5.3f\\n' % (10,10,-drop,10,10,10))\n",
    "dafile.close()\n",
    "\n",
    "bintab = [7,12,30,50]\n",
    "bintab = [12,30,50]\n",
    "\n",
    "from ddhist import histodd\n",
    "for nb in bintab:\n",
    "    histodd(\"allDD\",drop=True,limrest=None,limtime=None,limwind=None,nbins=nb,limdrop=limdrop,\\\n",
    "            folder=\"./\"+case+\"/pdf_stats/\")\n",
    "\n",
    "### limrest: restrict limit (multiple of dx) -- greater equal\n",
    "### limtime: use only data earlier than this local time \n",
    "### limdrop: use only data with deeper drop than value -- 0.5 to avoid false positives\n",
    "### limwind: use only data with friction velocity larger than this value\n"
   ]
  },
  {
   "cell_type": "code",
   "execution_count": 13,
   "metadata": {},
   "outputs": [],
   "source": [
    "def create_file_drop(soltab,file=\"test.txt\",limdrop=0.0):\n",
    "  dafile = open(file,\"w\")\n",
    "  dafile.write('SOL RATIO N_D MAXdP\\n')\n",
    "\n",
    "  for dasol in soltab:\n",
    "    fifi, output = apss_lib.namefile(dasol,\"\")\n",
    "    ddfile = \"./\"+case+\"/txt_per_sol/\"+output+\"DD_3.txt\"\n",
    "    drop = np.loadtxt(ddfile,unpack=True,usecols=(1))\n",
    "    selectdrop = drop[drop <= -limdrop]\n",
    "    ndrop = len(selectdrop)\n",
    "    if ndrop > 0:\n",
    "      extdrop = np.min(selectdrop)\n",
    "    else:\n",
    "      extdrop = 0.\n",
    "    daind = np.where(sol == dasol)\n",
    "    daratio = 1.\n",
    "    \n",
    "    try:\n",
    "        dafile.write( '%03d %5.3f %03d %4.2f\\n' % (dasol,daratio,ndrop,extdrop))\n",
    "    except:\n",
    "        print dasol\n",
    "        print dasol,daratio,ndrop,extdrop\n",
    "  dafile.close()\n",
    "  return\n",
    "\n",
    "#soltab = np.arange(lastsol)\n",
    "create_file_drop(soltab,file=\"./\"+case+\"/txt_sol_to_sol/solDD_above_0p3.txt\",limdrop=dadroplim)\n",
    "create_file_drop(soltab,file=\"./\"+case+\"/txt_sol_to_sol/solDD_above_0p5.txt\",limdrop=0.5)\n",
    "create_file_drop(soltab,file=\"./\"+case+\"/txt_sol_to_sol/solDD_above_1p0.txt\",limdrop=1.0)\n",
    "create_file_drop(soltab,file=\"./\"+case+\"/txt_sol_to_sol/solDD_above_2p0.txt\",limdrop=2.0)"
   ]
  },
  {
   "cell_type": "code",
   "execution_count": 14,
   "metadata": {},
   "outputs": [],
   "source": [
    "## corrected variability\n",
    "nx = 16 #32 #24 #16\n",
    "ny = 4 #6\n",
    "lim = 0.99 # to select regular (complete) sols\n",
    "\n",
    "import numpy as np\n",
    "import ppplot\n",
    "ppplot.changefont(16)\n",
    "\n",
    "stab = [\"above_0p3\",\"above_0p5\",\"above_1p0\",\"above_2p0\"]\n",
    "#stab = [\"above_0p3\"]\n",
    "\n",
    "for sss in stab:\n",
    "\n",
    "  sol, ratio, ndd, extdrop = np.loadtxt(\"./\"+case+\"/txt_sol_to_sol/solDD_\"+sss+\".txt\",unpack=True,skiprows=1)\n",
    "  fig = ppplot.figuref(x=nx,y=ny)\n",
    "  pl = ppplot.plot1d(fig=fig)\n",
    "  pl.xmin = sol[0]  - 1.0\n",
    "  pl.xmax = sol[-1] + 1.0\n",
    "  pl.nxticks = 10\n",
    "  pl.ymin = 0\n",
    "  pl.ymax = np.max(ndd/ratio)+1\n",
    "  pl.nyticks = np.min([pl.ymax - pl.ymin + 1, 10])\n",
    "  pl.fmt = '%.0f'\n",
    "  pl.xlabel = \"InSight sol\"\n",
    "  pl.ylabel = r'# pressure drops' #per hour'\n",
    "  pl.linestyle = \"\"\n",
    "  pl.marker = \"s\"\n",
    "  pl.title = \"pressure drops \" + sss.replace(\"p\",\".\").replace(\"_\",\" \") + \" Pa\"\n",
    "\n",
    "  ##########################\n",
    "  ## regular points first\n",
    "  w = np.where(ratio >= lim)\n",
    "  pl.f = ndd[w]/ratio[w]\n",
    "  pl.x = sol[w]\n",
    "  pl.color = \"b\"\n",
    "  pl.make()\n",
    "\n",
    "  ppplot.save(filename=\"drop_dtdvar_\"+sss,mode=\"pdf\",folder=\"./\"+case+\"/pdf_sol_to_sol/\")\n",
    "\n"
   ]
  },
  {
   "cell_type": "code",
   "execution_count": null,
   "metadata": {},
   "outputs": [],
   "source": []
  }
 ],
 "metadata": {
  "kernelspec": {
   "display_name": "Python 2",
   "language": "python",
   "name": "python2"
  },
  "language_info": {
   "codemirror_mode": {
    "name": "ipython",
    "version": 2
   },
   "file_extension": ".py",
   "mimetype": "text/x-python",
   "name": "python",
   "nbconvert_exporter": "python",
   "pygments_lexer": "ipython2",
   "version": "2.7.18"
  }
 },
 "nbformat": 4,
 "nbformat_minor": 2
}
