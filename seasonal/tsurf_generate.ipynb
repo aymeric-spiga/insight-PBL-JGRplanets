{
 "cells": [
  {
   "cell_type": "code",
   "execution_count": 1,
   "metadata": {},
   "outputs": [
    {
     "name": "stdout",
     "output_type": "stream",
     "text": [
      "2021-03-06 00:48:45.085705\n"
     ]
    }
   ],
   "source": [
    "import apss_lib\n",
    "import numpy as np\n",
    "%matplotlib inline"
   ]
  },
  {
   "cell_type": "code",
   "execution_count": 2,
   "metadata": {},
   "outputs": [],
   "source": [
    "names = [\"UTC\",\\\n",
    "         \"sol\",\\\n",
    "         \"LTST\",\\\n",
    "         \"Ls\",\\\n",
    "         \"sun_azimuth\",\\\n",
    "         \"sun_phase_angle_1\",\\\n",
    "         \"incidence_angle_1\",\\\n",
    "         \"sigma_sun_phase_angle_1\",\\\n",
    "         \"sigma_incidence_angle_1\",\\\n",
    "         \"shadow_1\",\\\n",
    "         \"sun_phase_angle_2\",\\\n",
    "         \"incidence_angle_2\",\\\n",
    "         \"sigma_sun_phase_angle_2\",\\\n",
    "         \"sigma_incidence_angle_2\",\\\n",
    "         \"shadow_2\",\\\n",
    "         \"TS_1\",\\\n",
    "         \"TS_2\",\\\n",
    "         \"dTS_1\",\\\n",
    "         \"dTS_2\"]"
   ]
  },
  {
   "cell_type": "code",
   "execution_count": 3,
   "metadata": {},
   "outputs": [],
   "source": [
    "folder = \"/home/aspiga/data/InSight/HP3_RAD/\"\n",
    "folder = \"https://pds-geosciences.wustl.edu/insight/urn-nasa-pds-insight_rad/data_derived/\""
   ]
  },
  {
   "cell_type": "code",
   "execution_count": 4,
   "metadata": {},
   "outputs": [],
   "source": [
    "fitab = []\n",
    "fitab.append(\"hp3_rad_der_00014_20181211_073042.tab\") # PDS RELEASE 1\n",
    "fitab.append(\"hp3_rad_der_00122_20190401_123217.tab\") # PDS RELEASE 2\n",
    "fitab.append(\"hp3_rad_der_00213_20190703_052044.tab\") # PDS RELEASE 3\n",
    "fitab.append(\"hp3_rad_der_00305_20191006_053040.tab\") # PDS RELEASE 4\n",
    "fitab.append(\"hp3_rad_der_00390_20200101_120222.tab\") # PDS RELEASE 5\n",
    "fitab.append(\"hp3_rad_der_00478_20200401_121608.tab\") # PDS RELEASE 6\n",
    "fitab.append(\"hp3_rad_der_00567_20200701_125545.tab\") # PDS RELEASE 7"
   ]
  },
  {
   "cell_type": "code",
   "execution_count": 5,
   "metadata": {},
   "outputs": [
    {
     "name": "stdout",
     "output_type": "stream",
     "text": [
      "hp3_rad_der_00014_20181211_073042.tab\n"
     ]
    },
    {
     "name": "stderr",
     "output_type": "stream",
     "text": [
      "/home/aspiga/conda/miniconda2/envs/py2/lib/python2.7/site-packages/ipykernel_launcher.py:4: VisibleDeprecationWarning: Reading unicode strings without specifying the encoding argument is deprecated. Set the encoding, use None for the system default.\n",
      "  after removing the cwd from sys.path.\n"
     ]
    },
    {
     "name": "stdout",
     "output_type": "stream",
     "text": [
      "hp3_rad_der_00122_20190401_123217.tab\n",
      "hp3_rad_der_00213_20190703_052044.tab\n",
      "hp3_rad_der_00305_20191006_053040.tab\n",
      "hp3_rad_der_00390_20200101_120222.tab\n",
      "hp3_rad_der_00478_20200401_121608.tab\n",
      "hp3_rad_der_00567_20200701_125545.tab\n"
     ]
    }
   ],
   "source": [
    "datatab = []\n",
    "for tabtab in fitab:\n",
    "    print tabtab\n",
    "    data = np.genfromtxt(folder+tabtab,dtype=None,names=names,filling_values=(np.nan))\n",
    "    datatab.append(data)"
   ]
  },
  {
   "cell_type": "code",
   "execution_count": 6,
   "metadata": {},
   "outputs": [
    {
     "name": "stderr",
     "output_type": "stream",
     "text": [
      "/home/aspiga/conda/miniconda2/envs/py2/lib/python2.7/site-packages/ipykernel_launcher.py:1: VisibleDeprecationWarning: Reading unicode strings without specifying the encoding argument is deprecated. Set the encoding, use None for the system default.\n",
      "  \"\"\"Entry point for launching an IPython kernel.\n"
     ]
    }
   ],
   "source": [
    "data = np.genfromtxt(\\\n",
    "        \"/home/aspiga/data/InSight/HP3_RAD/release_8_partial_archive/hp3_rad_der_00660_20201004_102825.tab\",\\\n",
    "        dtype=None,names=names,filling_values=(np.nan))\n",
    "datatab.append(data)"
   ]
  },
  {
   "cell_type": "code",
   "execution_count": 7,
   "metadata": {},
   "outputs": [],
   "source": [
    "ts,te = 10,15\n",
    "#ts,te = 12,13\n",
    "#ts,te = 8,17\n",
    "#ts,te = 11,15\n",
    "#ts,te = 12,14\n",
    "#ts,te = 11,13\n",
    "ts,te = 11,14 # paper\n",
    "#####################################\n",
    "ts,te = 12,13 # for recent sols\n",
    "ts,te = 1,3\n",
    "#ts,te = 5,6"
   ]
  },
  {
   "cell_type": "code",
   "execution_count": 8,
   "metadata": {
    "scrolled": false
   },
   "outputs": [],
   "source": [
    "#####################################\n",
    "#####################################\n",
    "######## BOUNDING\n",
    "ltst = np.array([])\n",
    "localt = np.array([])\n",
    "time = np.array([])\n",
    "field = np.array([])\n",
    "for ddd in datatab:\n",
    "    ###\n",
    "    ltst2 = ddd[\"LTST\"]\n",
    "    idx = (ltst2 >= ts)*(ltst2 <= te)\n",
    "    w = np.where(idx)\n",
    "    ###\n",
    "    localt2 = ddd[\"LTST\"][w]\n",
    "    time2 = ddd[\"sol\"][w] + (localt2/24.)\n",
    "    field2 = ddd[\"TS_2\"][w]\n",
    "    ###\n",
    "    ltst = np.append(ltst,ltst2)\n",
    "    localt = np.append(localt,localt2)\n",
    "    time = np.append(time,time2)\n",
    "    field = np.append(field,field2)    \n",
    "######## BOUNDING\n",
    "#####################################\n",
    "#####################################\n",
    "######## BINNING\n",
    "dcmp,intp = np.modf(time)\n",
    "sols = np.array([])\n",
    "vals = np.array([])\n",
    "enough_for_bins = False #True\n",
    "for val in np.unique(intp):\n",
    "    w = np.where(intp == val)\n",
    "    if enough_for_bins:\n",
    "        if (np.min(localt[w])>ts+1) or (np.max(localt[w])<te-1):\n",
    "            print \"REMOVED\", val, ts,np.min(localt[w]),np.max(localt[w]),te\n",
    "    else:\n",
    "        selec = field[w]\n",
    "        vals = np.append(vals,np.mean(selec))\n",
    "        sols = np.append(sols,val+(te+ts)/48.)\n",
    "time = sols\n",
    "field = vals\n",
    "######## BINNING\n",
    "#####################################\n",
    "#####################################\n",
    "## sol 97 anomalous\n",
    "field[np.floor(time) == 97] = np.nan\n",
    "############ SAVE\n",
    "fifi = open('tsurf_bins_LT_%i_%i.txt' % (ts,te), 'w')\n",
    "for ii in range(len(field)):\n",
    "    fifi.write(\"%10.3f %10.4f\\n\" % (time[ii],field[ii]))\n",
    "fifi.close()"
   ]
  },
  {
   "cell_type": "code",
   "execution_count": 9,
   "metadata": {},
   "outputs": [
    {
     "data": {
      "image/png": "[encoded data removed]",
      "text/plain": [
       "<Figure size 1152x288 with 1 Axes>"
      ]
     },
     "metadata": {},
     "output_type": "display_data"
    }
   ],
   "source": [
    "import ppplot\n",
    "ppplot.changefont(16)\n",
    "ppplot.changemarkersize(7)\n",
    "fig = ppplot.figuref(x=16,y=4)\n",
    "pl = ppplot.plot1d(fig=fig)\n",
    "pl.f = field\n",
    "pl.legend = \"RAD far spot between LT %i and %i\" % (ts,te)\n",
    "pl.x = time\n",
    "#pl.xmin = 0\n",
    "#pl.xmax = 150\n",
    "pl.nxticks = 10\n",
    "#pl.ymin = 276\n",
    "#pl.ymax = 290\n",
    "#pl.nyticks = 7\n",
    "pl.xlabel = \"InSight sol\"\n",
    "pl.ylabel = \"Surface temperature (K)\"\n",
    "pl.linestyle = ''\n",
    "pl.marker = '.'\n",
    "pl.make()\n",
    "#ppplot.save(mode=\"pdf\",filename=\"tsurf_%i_%i\" % (ts,te))\n",
    "ppplot.show()"
   ]
  }
 ],
 "metadata": {
  "kernelspec": {
   "display_name": "Python 2",
   "language": "python",
   "name": "python2"
  },
  "language_info": {
   "codemirror_mode": {
    "name": "ipython",
    "version": 2
   },
   "file_extension": ".py",
   "mimetype": "text/x-python",
   "name": "python",
   "nbconvert_exporter": "python",
   "pygments_lexer": "ipython2",
   "version": "2.7.18"
  }
 },
 "nbformat": 4,
 "nbformat_minor": 2
}
